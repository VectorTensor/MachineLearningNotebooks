{
 "cells": [
  {
   "cell_type": "code",
   "execution_count": 1,
   "metadata": {},
   "outputs": [],
   "source": [
    "from sklearn.datasets import load_wine\n",
    "\n"
   ]
  },
  {
   "cell_type": "code",
   "execution_count": 2,
   "metadata": {},
   "outputs": [],
   "source": [
    "\n",
    "wine_data = load_wine()\n"
   ]
  },
  {
   "cell_type": "code",
   "execution_count": 3,
   "metadata": {},
   "outputs": [],
   "source": [
    "X = wine_data.data\n",
    "y = wine_data.target"
   ]
  },
  {
   "cell_type": "code",
   "execution_count": 4,
   "metadata": {},
   "outputs": [],
   "source": [
    "feature_names = wine_data.feature_names\n",
    "target_names = wine_data.target_names"
   ]
  },
  {
   "cell_type": "code",
   "execution_count": 5,
   "metadata": {},
   "outputs": [
    {
     "data": {
      "text/plain": [
       "array([0, 0, 0, 0, 0, 0, 0, 0, 0, 0, 0, 0, 0, 0, 0, 0, 0, 0, 0, 0, 0, 0,\n",
       "       0, 0, 0, 0, 0, 0, 0, 0, 0, 0, 0, 0, 0, 0, 0, 0, 0, 0, 0, 0, 0, 0,\n",
       "       0, 0, 0, 0, 0, 0, 0, 0, 0, 0, 0, 0, 0, 0, 0, 1, 1, 1, 1, 1, 1, 1,\n",
       "       1, 1, 1, 1, 1, 1, 1, 1, 1, 1, 1, 1, 1, 1, 1, 1, 1, 1, 1, 1, 1, 1,\n",
       "       1, 1, 1, 1, 1, 1, 1, 1, 1, 1, 1, 1, 1, 1, 1, 1, 1, 1, 1, 1, 1, 1,\n",
       "       1, 1, 1, 1, 1, 1, 1, 1, 1, 1, 1, 1, 1, 1, 1, 1, 1, 1, 1, 1, 2, 2,\n",
       "       2, 2, 2, 2, 2, 2, 2, 2, 2, 2, 2, 2, 2, 2, 2, 2, 2, 2, 2, 2, 2, 2,\n",
       "       2, 2, 2, 2, 2, 2, 2, 2, 2, 2, 2, 2, 2, 2, 2, 2, 2, 2, 2, 2, 2, 2,\n",
       "       2, 2])"
      ]
     },
     "execution_count": 5,
     "metadata": {},
     "output_type": "execute_result"
    }
   ],
   "source": [
    "y"
   ]
  },
  {
   "cell_type": "code",
   "execution_count": 6,
   "metadata": {},
   "outputs": [
    {
     "data": {
      "text/plain": [
       "['alcohol',\n",
       " 'malic_acid',\n",
       " 'ash',\n",
       " 'alcalinity_of_ash',\n",
       " 'magnesium',\n",
       " 'total_phenols',\n",
       " 'flavanoids',\n",
       " 'nonflavanoid_phenols',\n",
       " 'proanthocyanins',\n",
       " 'color_intensity',\n",
       " 'hue',\n",
       " 'od280/od315_of_diluted_wines',\n",
       " 'proline']"
      ]
     },
     "execution_count": 6,
     "metadata": {},
     "output_type": "execute_result"
    }
   ],
   "source": [
    "feature_names"
   ]
  },
  {
   "cell_type": "code",
   "execution_count": 7,
   "metadata": {},
   "outputs": [
    {
     "data": {
      "text/plain": [
       "array(['class_0', 'class_1', 'class_2'], dtype='<U7')"
      ]
     },
     "execution_count": 7,
     "metadata": {},
     "output_type": "execute_result"
    }
   ],
   "source": [
    "target_names"
   ]
  },
  {
   "cell_type": "code",
   "execution_count": 8,
   "metadata": {},
   "outputs": [],
   "source": [
    "import pandas as pd\n"
   ]
  },
  {
   "cell_type": "code",
   "execution_count": 9,
   "metadata": {},
   "outputs": [],
   "source": [
    "df = pd.DataFrame(X, columns=feature_names)"
   ]
  },
  {
   "cell_type": "code",
   "execution_count": 10,
   "metadata": {},
   "outputs": [],
   "source": [
    "df['label'] = y"
   ]
  },
  {
   "cell_type": "code",
   "execution_count": 11,
   "metadata": {},
   "outputs": [
    {
     "data": {
      "text/html": [
       "<div>\n",
       "<style scoped>\n",
       "    .dataframe tbody tr th:only-of-type {\n",
       "        vertical-align: middle;\n",
       "    }\n",
       "\n",
       "    .dataframe tbody tr th {\n",
       "        vertical-align: top;\n",
       "    }\n",
       "\n",
       "    .dataframe thead th {\n",
       "        text-align: right;\n",
       "    }\n",
       "</style>\n",
       "<table border=\"1\" class=\"dataframe\">\n",
       "  <thead>\n",
       "    <tr style=\"text-align: right;\">\n",
       "      <th></th>\n",
       "      <th>alcohol</th>\n",
       "      <th>malic_acid</th>\n",
       "      <th>ash</th>\n",
       "      <th>alcalinity_of_ash</th>\n",
       "      <th>magnesium</th>\n",
       "      <th>total_phenols</th>\n",
       "      <th>flavanoids</th>\n",
       "      <th>nonflavanoid_phenols</th>\n",
       "      <th>proanthocyanins</th>\n",
       "      <th>color_intensity</th>\n",
       "      <th>hue</th>\n",
       "      <th>od280/od315_of_diluted_wines</th>\n",
       "      <th>proline</th>\n",
       "      <th>label</th>\n",
       "    </tr>\n",
       "  </thead>\n",
       "  <tbody>\n",
       "    <tr>\n",
       "      <th>0</th>\n",
       "      <td>14.23</td>\n",
       "      <td>1.71</td>\n",
       "      <td>2.43</td>\n",
       "      <td>15.6</td>\n",
       "      <td>127.0</td>\n",
       "      <td>2.80</td>\n",
       "      <td>3.06</td>\n",
       "      <td>0.28</td>\n",
       "      <td>2.29</td>\n",
       "      <td>5.64</td>\n",
       "      <td>1.04</td>\n",
       "      <td>3.92</td>\n",
       "      <td>1065.0</td>\n",
       "      <td>0</td>\n",
       "    </tr>\n",
       "    <tr>\n",
       "      <th>1</th>\n",
       "      <td>13.20</td>\n",
       "      <td>1.78</td>\n",
       "      <td>2.14</td>\n",
       "      <td>11.2</td>\n",
       "      <td>100.0</td>\n",
       "      <td>2.65</td>\n",
       "      <td>2.76</td>\n",
       "      <td>0.26</td>\n",
       "      <td>1.28</td>\n",
       "      <td>4.38</td>\n",
       "      <td>1.05</td>\n",
       "      <td>3.40</td>\n",
       "      <td>1050.0</td>\n",
       "      <td>0</td>\n",
       "    </tr>\n",
       "    <tr>\n",
       "      <th>2</th>\n",
       "      <td>13.16</td>\n",
       "      <td>2.36</td>\n",
       "      <td>2.67</td>\n",
       "      <td>18.6</td>\n",
       "      <td>101.0</td>\n",
       "      <td>2.80</td>\n",
       "      <td>3.24</td>\n",
       "      <td>0.30</td>\n",
       "      <td>2.81</td>\n",
       "      <td>5.68</td>\n",
       "      <td>1.03</td>\n",
       "      <td>3.17</td>\n",
       "      <td>1185.0</td>\n",
       "      <td>0</td>\n",
       "    </tr>\n",
       "    <tr>\n",
       "      <th>3</th>\n",
       "      <td>14.37</td>\n",
       "      <td>1.95</td>\n",
       "      <td>2.50</td>\n",
       "      <td>16.8</td>\n",
       "      <td>113.0</td>\n",
       "      <td>3.85</td>\n",
       "      <td>3.49</td>\n",
       "      <td>0.24</td>\n",
       "      <td>2.18</td>\n",
       "      <td>7.80</td>\n",
       "      <td>0.86</td>\n",
       "      <td>3.45</td>\n",
       "      <td>1480.0</td>\n",
       "      <td>0</td>\n",
       "    </tr>\n",
       "    <tr>\n",
       "      <th>4</th>\n",
       "      <td>13.24</td>\n",
       "      <td>2.59</td>\n",
       "      <td>2.87</td>\n",
       "      <td>21.0</td>\n",
       "      <td>118.0</td>\n",
       "      <td>2.80</td>\n",
       "      <td>2.69</td>\n",
       "      <td>0.39</td>\n",
       "      <td>1.82</td>\n",
       "      <td>4.32</td>\n",
       "      <td>1.04</td>\n",
       "      <td>2.93</td>\n",
       "      <td>735.0</td>\n",
       "      <td>0</td>\n",
       "    </tr>\n",
       "    <tr>\n",
       "      <th>...</th>\n",
       "      <td>...</td>\n",
       "      <td>...</td>\n",
       "      <td>...</td>\n",
       "      <td>...</td>\n",
       "      <td>...</td>\n",
       "      <td>...</td>\n",
       "      <td>...</td>\n",
       "      <td>...</td>\n",
       "      <td>...</td>\n",
       "      <td>...</td>\n",
       "      <td>...</td>\n",
       "      <td>...</td>\n",
       "      <td>...</td>\n",
       "      <td>...</td>\n",
       "    </tr>\n",
       "    <tr>\n",
       "      <th>173</th>\n",
       "      <td>13.71</td>\n",
       "      <td>5.65</td>\n",
       "      <td>2.45</td>\n",
       "      <td>20.5</td>\n",
       "      <td>95.0</td>\n",
       "      <td>1.68</td>\n",
       "      <td>0.61</td>\n",
       "      <td>0.52</td>\n",
       "      <td>1.06</td>\n",
       "      <td>7.70</td>\n",
       "      <td>0.64</td>\n",
       "      <td>1.74</td>\n",
       "      <td>740.0</td>\n",
       "      <td>2</td>\n",
       "    </tr>\n",
       "    <tr>\n",
       "      <th>174</th>\n",
       "      <td>13.40</td>\n",
       "      <td>3.91</td>\n",
       "      <td>2.48</td>\n",
       "      <td>23.0</td>\n",
       "      <td>102.0</td>\n",
       "      <td>1.80</td>\n",
       "      <td>0.75</td>\n",
       "      <td>0.43</td>\n",
       "      <td>1.41</td>\n",
       "      <td>7.30</td>\n",
       "      <td>0.70</td>\n",
       "      <td>1.56</td>\n",
       "      <td>750.0</td>\n",
       "      <td>2</td>\n",
       "    </tr>\n",
       "    <tr>\n",
       "      <th>175</th>\n",
       "      <td>13.27</td>\n",
       "      <td>4.28</td>\n",
       "      <td>2.26</td>\n",
       "      <td>20.0</td>\n",
       "      <td>120.0</td>\n",
       "      <td>1.59</td>\n",
       "      <td>0.69</td>\n",
       "      <td>0.43</td>\n",
       "      <td>1.35</td>\n",
       "      <td>10.20</td>\n",
       "      <td>0.59</td>\n",
       "      <td>1.56</td>\n",
       "      <td>835.0</td>\n",
       "      <td>2</td>\n",
       "    </tr>\n",
       "    <tr>\n",
       "      <th>176</th>\n",
       "      <td>13.17</td>\n",
       "      <td>2.59</td>\n",
       "      <td>2.37</td>\n",
       "      <td>20.0</td>\n",
       "      <td>120.0</td>\n",
       "      <td>1.65</td>\n",
       "      <td>0.68</td>\n",
       "      <td>0.53</td>\n",
       "      <td>1.46</td>\n",
       "      <td>9.30</td>\n",
       "      <td>0.60</td>\n",
       "      <td>1.62</td>\n",
       "      <td>840.0</td>\n",
       "      <td>2</td>\n",
       "    </tr>\n",
       "    <tr>\n",
       "      <th>177</th>\n",
       "      <td>14.13</td>\n",
       "      <td>4.10</td>\n",
       "      <td>2.74</td>\n",
       "      <td>24.5</td>\n",
       "      <td>96.0</td>\n",
       "      <td>2.05</td>\n",
       "      <td>0.76</td>\n",
       "      <td>0.56</td>\n",
       "      <td>1.35</td>\n",
       "      <td>9.20</td>\n",
       "      <td>0.61</td>\n",
       "      <td>1.60</td>\n",
       "      <td>560.0</td>\n",
       "      <td>2</td>\n",
       "    </tr>\n",
       "  </tbody>\n",
       "</table>\n",
       "<p>178 rows × 14 columns</p>\n",
       "</div>"
      ],
      "text/plain": [
       "     alcohol  malic_acid   ash  alcalinity_of_ash  magnesium  total_phenols  \\\n",
       "0      14.23        1.71  2.43               15.6      127.0           2.80   \n",
       "1      13.20        1.78  2.14               11.2      100.0           2.65   \n",
       "2      13.16        2.36  2.67               18.6      101.0           2.80   \n",
       "3      14.37        1.95  2.50               16.8      113.0           3.85   \n",
       "4      13.24        2.59  2.87               21.0      118.0           2.80   \n",
       "..       ...         ...   ...                ...        ...            ...   \n",
       "173    13.71        5.65  2.45               20.5       95.0           1.68   \n",
       "174    13.40        3.91  2.48               23.0      102.0           1.80   \n",
       "175    13.27        4.28  2.26               20.0      120.0           1.59   \n",
       "176    13.17        2.59  2.37               20.0      120.0           1.65   \n",
       "177    14.13        4.10  2.74               24.5       96.0           2.05   \n",
       "\n",
       "     flavanoids  nonflavanoid_phenols  proanthocyanins  color_intensity   hue  \\\n",
       "0          3.06                  0.28             2.29             5.64  1.04   \n",
       "1          2.76                  0.26             1.28             4.38  1.05   \n",
       "2          3.24                  0.30             2.81             5.68  1.03   \n",
       "3          3.49                  0.24             2.18             7.80  0.86   \n",
       "4          2.69                  0.39             1.82             4.32  1.04   \n",
       "..          ...                   ...              ...              ...   ...   \n",
       "173        0.61                  0.52             1.06             7.70  0.64   \n",
       "174        0.75                  0.43             1.41             7.30  0.70   \n",
       "175        0.69                  0.43             1.35            10.20  0.59   \n",
       "176        0.68                  0.53             1.46             9.30  0.60   \n",
       "177        0.76                  0.56             1.35             9.20  0.61   \n",
       "\n",
       "     od280/od315_of_diluted_wines  proline  label  \n",
       "0                            3.92   1065.0      0  \n",
       "1                            3.40   1050.0      0  \n",
       "2                            3.17   1185.0      0  \n",
       "3                            3.45   1480.0      0  \n",
       "4                            2.93    735.0      0  \n",
       "..                            ...      ...    ...  \n",
       "173                          1.74    740.0      2  \n",
       "174                          1.56    750.0      2  \n",
       "175                          1.56    835.0      2  \n",
       "176                          1.62    840.0      2  \n",
       "177                          1.60    560.0      2  \n",
       "\n",
       "[178 rows x 14 columns]"
      ]
     },
     "execution_count": 11,
     "metadata": {},
     "output_type": "execute_result"
    }
   ],
   "source": [
    "df"
   ]
  },
  {
   "cell_type": "code",
   "execution_count": 12,
   "metadata": {},
   "outputs": [
    {
     "data": {
      "text/plain": [
       "array([14.23, 13.2 , 13.16, 14.37, 13.24, 14.2 , 14.39, 14.06, 14.83,\n",
       "       13.86, 14.1 , 14.12, 13.75, 14.75, 14.38, 13.63, 14.3 , 13.83,\n",
       "       14.19, 13.64, 14.06, 12.93, 13.71, 12.85, 13.5 , 13.05, 13.39,\n",
       "       13.3 , 13.87, 14.02, 13.73, 13.58, 13.68, 13.76, 13.51, 13.48,\n",
       "       13.28, 13.05, 13.07, 14.22, 13.56, 13.41, 13.88, 13.24, 13.05,\n",
       "       14.21, 14.38, 13.9 , 14.1 , 13.94, 13.05, 13.83, 13.82, 13.77,\n",
       "       13.74, 13.56, 14.22, 13.29, 13.72, 12.37, 12.33, 12.64, 13.67,\n",
       "       12.37, 12.17, 12.37, 13.11, 12.37, 13.34, 12.21, 12.29, 13.86,\n",
       "       13.49, 12.99, 11.96, 11.66, 13.03, 11.84, 12.33, 12.7 , 12.  ,\n",
       "       12.72, 12.08, 13.05, 11.84, 12.67, 12.16, 11.65, 11.64, 12.08,\n",
       "       12.08, 12.  , 12.69, 12.29, 11.62, 12.47, 11.81, 12.29, 12.37,\n",
       "       12.29, 12.08, 12.6 , 12.34, 11.82, 12.51, 12.42, 12.25, 12.72,\n",
       "       12.22, 11.61, 11.46, 12.52, 11.76, 11.41, 12.08, 11.03, 11.82,\n",
       "       12.42, 12.77, 12.  , 11.45, 11.56, 12.42, 13.05, 11.87, 12.07,\n",
       "       12.43, 11.79, 12.37, 12.04, 12.86, 12.88, 12.81, 12.7 , 12.51,\n",
       "       12.6 , 12.25, 12.53, 13.49, 12.84, 12.93, 13.36, 13.52, 13.62,\n",
       "       12.25, 13.16, 13.88, 12.87, 13.32, 13.08, 13.5 , 12.79, 13.11,\n",
       "       13.23, 12.58, 13.17, 13.84, 12.45, 14.34, 13.48, 12.36, 13.69,\n",
       "       12.85, 12.96, 13.78, 13.73, 13.45, 12.82, 13.58, 13.4 , 12.2 ,\n",
       "       12.77, 14.16, 13.71, 13.4 , 13.27, 13.17, 14.13])"
      ]
     },
     "execution_count": 12,
     "metadata": {},
     "output_type": "execute_result"
    }
   ],
   "source": [
    "df['alcohol'].values"
   ]
  },
  {
   "cell_type": "code",
   "execution_count": null,
   "metadata": {},
   "outputs": [],
   "source": []
  },
  {
   "cell_type": "code",
   "execution_count": 13,
   "metadata": {},
   "outputs": [
    {
     "data": {
      "text/plain": [
       "array([0, 0, 0, 0, 0, 0, 0, 0, 0, 0, 0, 0, 0, 0, 0, 0, 0, 0, 0, 0, 0, 0,\n",
       "       0, 0, 0, 0, 0, 0, 0, 0, 0, 0, 0, 0, 0, 0, 0, 0, 0, 0, 0, 0, 0, 0,\n",
       "       0, 0, 0, 0, 0, 0, 0, 0, 0, 0, 0, 0, 0, 0, 0, 1, 1, 1, 1, 1, 1, 1,\n",
       "       1, 1, 1, 1, 1, 1, 1, 1, 1, 1, 1, 1, 1, 1, 1, 1, 1, 1, 1, 1, 1, 1,\n",
       "       1, 1, 1, 1, 1, 1, 1, 1, 1, 1, 1, 1, 1, 1, 1, 1, 1, 1, 1, 1, 1, 1,\n",
       "       1, 1, 1, 1, 1, 1, 1, 1, 1, 1, 1, 1, 1, 1, 1, 1, 1, 1, 1, 1, 2, 2,\n",
       "       2, 2, 2, 2, 2, 2, 2, 2, 2, 2, 2, 2, 2, 2, 2, 2, 2, 2, 2, 2, 2, 2,\n",
       "       2, 2, 2, 2, 2, 2, 2, 2, 2, 2, 2, 2, 2, 2, 2, 2, 2, 2, 2, 2, 2, 2,\n",
       "       2, 2])"
      ]
     },
     "execution_count": 13,
     "metadata": {},
     "output_type": "execute_result"
    }
   ],
   "source": [
    "y"
   ]
  },
  {
   "cell_type": "code",
   "execution_count": 14,
   "metadata": {},
   "outputs": [],
   "source": [
    "import numpy as np\n",
    "\n",
    "colormap = np.array(['r','g','b'])\n",
    "\n"
   ]
  },
  {
   "cell_type": "code",
   "execution_count": 15,
   "metadata": {},
   "outputs": [],
   "source": [
    "import matplotlib.pyplot as plt"
   ]
  },
  {
   "cell_type": "code",
   "execution_count": 16,
   "metadata": {},
   "outputs": [
    {
     "data": {
      "text/plain": [
       "<matplotlib.collections.PathCollection at 0x7f099291f290>"
      ]
     },
     "execution_count": 16,
     "metadata": {},
     "output_type": "execute_result"
    },
    {
     "data": {
      "image/png": "[encoded data removed]",
      "text/plain": [
       "<Figure size 640x480 with 1 Axes>"
      ]
     },
     "metadata": {},
     "output_type": "display_data"
    }
   ],
   "source": [
    "plt.scatter(df['total_phenols'].values,df['magnesium'].values,c=colormap[y])"
   ]
  },
  {
   "cell_type": "code",
   "execution_count": 17,
   "metadata": {},
   "outputs": [
    {
     "data": {
      "text/plain": [
       "array([0.3709531 , 0.18711145, 0.10976109, 0.07625449, 0.0661691 ,\n",
       "       0.04687184, 0.03974736, 0.02621567, 0.02382472, 0.01791617,\n",
       "       0.01637234, 0.01150739, 0.00729528])"
      ]
     },
     "execution_count": 17,
     "metadata": {},
     "output_type": "execute_result"
    }
   ],
   "source": [
    "from sklearn.linear_model import LogisticRegression\n",
    "from sklearn.decomposition import PCA\n",
    "from sklearn.model_selection import train_test_split\n",
    "\n",
    "X_train, X_test, y_train, y_test = train_test_split(X, y , test_size=0.3)\n",
    "from sklearn.preprocessing import StandardScaler\n",
    "sc = StandardScaler()\n",
    "X_train_std = sc.fit_transform(X_train)\n",
    "X_test_std = sc.transform(X_test)\n",
    "\n",
    "pca = PCA(n_components=13)\n",
    "pca.fit(X_train_std)\n",
    "pca.explained_variance_ratio_\n"
   ]
  },
  {
   "cell_type": "code",
   "execution_count": 18,
   "metadata": {},
   "outputs": [
    {
     "data": {
      "text/plain": [
       "<BarContainer object of 13 artists>"
      ]
     },
     "execution_count": 18,
     "metadata": {},
     "output_type": "execute_result"
    },
    {
     "data": {
      "image/png": "[encoded data removed]",
      "text/plain": [
       "<Figure size 640x480 with 1 Axes>"
      ]
     },
     "metadata": {},
     "output_type": "display_data"
    }
   ],
   "source": [
    "x=[1,2,3,4,5,6,7,8,9,10,11,12,13]\n",
    "plt.bar(x, pca.explained_variance_ratio_)"
   ]
  },
  {
   "cell_type": "code",
   "execution_count": 19,
   "metadata": {},
   "outputs": [
    {
     "data": {
      "text/plain": [
       "array([[-1.17658412e+00, -7.68621127e-01,  2.77478336e-01, ...,\n",
       "         4.36221518e-01,  1.15199408e-01, -9.22753257e-01],\n",
       "       [-1.37114512e+00, -1.29397312e+00,  8.91209685e-01, ...,\n",
       "        -6.57045097e-01,  7.46487429e-01, -6.94269495e-01],\n",
       "       [ 1.71751078e+00, -4.63578034e-01,  1.24045499e-01, ...,\n",
       "         1.06695226e+00,  6.29038495e-01,  2.65791370e+00],\n",
       "       ...,\n",
       "       [ 1.04870733e+00, -7.17780612e-01,  1.04464252e+00, ...,\n",
       "         7.72611246e-01, -2.24952596e-03,  1.29680329e+00],\n",
       "       [ 5.86624956e-01,  1.08705769e+00,  9.67926104e-01, ...,\n",
       "        -4.04752802e-01, -1.48504232e+00, -1.23060091e-01],\n",
       "       [ 9.27106709e-01,  1.64630336e+00, -3.36253012e-01, ...,\n",
       "        -6.99093813e-01, -1.20610110e+00, -6.94269495e-01]])"
      ]
     },
     "execution_count": 19,
     "metadata": {},
     "output_type": "execute_result"
    }
   ],
   "source": [
    "X_train_std"
   ]
  },
  {
   "cell_type": "code",
   "execution_count": 20,
   "metadata": {},
   "outputs": [],
   "source": [
    "from sklearn.ensemble import RandomForestClassifier"
   ]
  },
  {
   "cell_type": "code",
   "execution_count": 21,
   "metadata": {},
   "outputs": [],
   "source": [
    "forest = RandomForestClassifier(n_estimators=500)\n",
    "forest.fit(X_train_std,y_train)\n",
    "importances = forest.feature_importances_"
   ]
  },
  {
   "cell_type": "code",
   "execution_count": 22,
   "metadata": {},
   "outputs": [
    {
     "data": {
      "text/plain": [
       "array([0.1039803 , 0.02423673, 0.01262149, 0.03056144, 0.02775894,\n",
       "       0.05411715, 0.17912324, 0.01443933, 0.02312477, 0.15292996,\n",
       "       0.06833387, 0.1248645 , 0.18390827])"
      ]
     },
     "execution_count": 22,
     "metadata": {},
     "output_type": "execute_result"
    }
   ],
   "source": [
    "importances"
   ]
  },
  {
   "cell_type": "code",
   "execution_count": 23,
   "metadata": {},
   "outputs": [
    {
     "data": {
      "text/plain": [
       "['alcohol',\n",
       " 'malic_acid',\n",
       " 'ash',\n",
       " 'alcalinity_of_ash',\n",
       " 'magnesium',\n",
       " 'total_phenols',\n",
       " 'flavanoids',\n",
       " 'nonflavanoid_phenols',\n",
       " 'proanthocyanins',\n",
       " 'color_intensity',\n",
       " 'hue',\n",
       " 'od280/od315_of_diluted_wines',\n",
       " 'proline']"
      ]
     },
     "execution_count": 23,
     "metadata": {},
     "output_type": "execute_result"
    }
   ],
   "source": [
    "wine_data.feature_names"
   ]
  },
  {
   "cell_type": "code",
   "execution_count": 24,
   "metadata": {},
   "outputs": [],
   "source": [
    "p = importances.argsort()[::-1]"
   ]
  },
  {
   "cell_type": "code",
   "execution_count": 25,
   "metadata": {},
   "outputs": [
    {
     "data": {
      "text/plain": [
       "array([12,  6,  9, 11,  0, 10,  5,  3,  4,  1,  8,  7,  2])"
      ]
     },
     "execution_count": 25,
     "metadata": {},
     "output_type": "execute_result"
    }
   ],
   "source": [
    "p"
   ]
  },
  {
   "cell_type": "code",
   "execution_count": 26,
   "metadata": {},
   "outputs": [
    {
     "data": {
      "text/plain": [
       "array(['proline', 'flavanoids', 'color_intensity',\n",
       "       'od280/od315_of_diluted_wines', 'alcohol', 'hue', 'total_phenols',\n",
       "       'alcalinity_of_ash', 'magnesium', 'malic_acid', 'proanthocyanins',\n",
       "       'nonflavanoid_phenols', 'ash'], dtype='<U28')"
      ]
     },
     "execution_count": 26,
     "metadata": {},
     "output_type": "execute_result"
    }
   ],
   "source": [
    "np.array(wine_data.feature_names)[p]"
   ]
  },
  {
   "cell_type": "code",
   "execution_count": 27,
   "metadata": {},
   "outputs": [],
   "source": [
    "p=p[:4]"
   ]
  },
  {
   "cell_type": "code",
   "execution_count": 28,
   "metadata": {},
   "outputs": [
    {
     "data": {
      "text/plain": [
       "array([12,  6,  9, 11])"
      ]
     },
     "execution_count": 28,
     "metadata": {},
     "output_type": "execute_result"
    }
   ],
   "source": [
    "p"
   ]
  },
  {
   "cell_type": "code",
   "execution_count": null,
   "metadata": {},
   "outputs": [],
   "source": []
  },
  {
   "cell_type": "code",
   "execution_count": 29,
   "metadata": {},
   "outputs": [],
   "source": [
    "X_std = sc.fit_transform(X_train[:,p])"
   ]
  },
  {
   "cell_type": "code",
   "execution_count": 30,
   "metadata": {},
   "outputs": [
    {
     "data": {
      "text/plain": [
       "array([[-9.22753257e-01, -7.15625665e-01, -6.42239731e-01,\n",
       "         1.15199408e-01],\n",
       "       [-6.94269495e-01,  2.37154552e-01, -8.70797182e-01,\n",
       "         7.46487429e-01],\n",
       "       [ 2.65791370e+00,  1.65640008e+00,  9.78440376e-01,\n",
       "         6.29038495e-01],\n",
       "       [ 1.54384477e-01, -1.45998521e+00,  1.88878272e-01,\n",
       "        -1.49060694e-01],\n",
       "       [ 8.39835763e-01,  7.13544660e-01, -5.42505571e-01,\n",
       "         4.38183977e-01],\n",
       "       [-9.61921902e-01,  1.37906612e-01, -9.74686933e-01,\n",
       "         1.18692093e+00],\n",
       "       [-7.10589764e-01, -1.36073727e+00, -6.04571289e-02,\n",
       "        -1.29418780e+00],\n",
       "       [ 1.36208436e+00,  1.28918271e+00,  8.53772675e-01,\n",
       "         4.96908444e-01],\n",
       "       [ 1.63952893e+00,  7.63168630e-01,  1.05766472e-01,\n",
       "         6.29038495e-01],\n",
       "       [-1.72020897e-01,  6.53995897e-01, -3.26414890e-01,\n",
       "         6.29038495e-01],\n",
       "       [-5.96347883e-01, -1.16224139e+00, -3.09792530e-01,\n",
       "        -7.65667598e-01],\n",
       "       [ 8.23515494e-01,  1.40828024e+00,  3.96657773e-01,\n",
       "         1.11351535e+00],\n",
       "       [-2.69942509e-01, -1.20194057e+00,  1.36075466e+00,\n",
       "        -1.39695562e+00],\n",
       "       [ 1.54384477e-01,  1.18993477e+00,  2.09656222e-01,\n",
       "         1.67139778e+00],\n",
       "       [-7.10589764e-01, -3.78182672e-01, -1.43568929e-01,\n",
       "        -8.24392065e-01],\n",
       "       [-9.94562439e-01,  5.24973576e-01, -9.33131033e-01,\n",
       "         2.47329459e-01],\n",
       "       [ 4.80789851e-01, -1.38058686e+00,  9.78440376e-01,\n",
       "        -1.23546333e+00],\n",
       "       [-1.06637162e+00,  1.01128848e+00, -1.18246643e+00,\n",
       "         3.79459510e-01],\n",
       "       [ 9.37757375e-01,  6.63920691e-01, -6.00683831e-01,\n",
       "         1.73923875e-01],\n",
       "       [-8.70528397e-01,  2.66928933e-01, -8.91575133e-01,\n",
       "        -1.93104044e-01],\n",
       "       [ 1.01935872e+00,  1.00136368e+00,  2.26546715e-02,\n",
       "         4.08821743e-01],\n",
       "       [-3.51543852e-01, -3.78182672e-01, -1.41517947e+00,\n",
       "         9.37341947e-01],\n",
       "       [-8.57472182e-01, -1.45006042e+00,  1.97578156e+00,\n",
       "        -1.38227450e+00],\n",
       "       [-8.24831645e-01, -6.06452932e-01,  2.34978508e+00,\n",
       "        -1.61717237e+00],\n",
       "       [-1.72020897e-01, -2.78934733e-01, -9.74686933e-01,\n",
       "         2.62010576e-01],\n",
       "       [ 1.18256141e+00,  1.57700173e+00,  1.18233242e-01,\n",
       "         1.45118103e+00],\n",
       "       [ 1.06831952e+00,  9.21965333e-01,  2.92768023e-01,\n",
       "         9.22660830e-01],\n",
       "       [-4.65785733e-01, -1.36073727e+00, -9.37018490e-02,\n",
       "        -6.18856430e-01],\n",
       "       [-4.33145196e-01, -1.45998521e+00, -2.26680730e-01,\n",
       "        -3.83958562e-01],\n",
       "       [-1.33075997e+00,  2.96703315e-01, -1.30713413e+00,\n",
       "         3.06053926e-01],\n",
       "       [-1.37319267e+00,  6.84330549e-02, -1.01624283e+00,\n",
       "         6.58400728e-01],\n",
       "       [ 9.21437106e-01,  3.95951255e-01, -5.05105261e-01,\n",
       "         1.55394885e+00],\n",
       "       [ 9.86718181e-01,  3.56252079e-01, -1.85124829e-01,\n",
       "         1.49522438e+00],\n",
       "       [-7.98719215e-01, -2.09461175e-01, -7.66907432e-01,\n",
       "        -2.22466277e-01],\n",
       "       [ 3.33907433e-01, -1.27141413e+00,  2.10044968e+00,\n",
       "        -1.48504232e+00],\n",
       "       [-7.75870838e-01, -3.68257878e-01, -1.32791208e+00,\n",
       "         1.11351535e+00],\n",
       "       [ 3.09203284e+00,  1.94421911e+00,  1.47711118e+00,\n",
       "         3.64778393e-01],\n",
       "       [-7.75870838e-01, -5.07204993e-01, -8.70797182e-01,\n",
       "        -7.50986481e-01],\n",
       "       [-1.20019782e+00,  1.57756200e-01, -1.27388941e+00,\n",
       "         8.05211896e-01],\n",
       "       [ 1.91697350e+00,  7.83018218e-01,  1.88878272e-01,\n",
       "         4.82227327e-01],\n",
       "       [-1.23283836e+00, -2.19385969e-01, -9.12353083e-01,\n",
       "        -5.01407496e-01],\n",
       "       [-4.79868546e-02, -6.85851284e-01, -9.53908983e-01,\n",
       "         7.31806312e-01],\n",
       "       [-5.63707345e-01, -1.20194057e+00,  1.68489068e+00,\n",
       "        -1.42631785e+00],\n",
       "       [-7.26910032e-01,  5.85082610e-02, -7.25351532e-01,\n",
       "         8.78617480e-01],\n",
       "       [ 1.73745054e+00,  1.01128848e+00,  1.88878272e-01,\n",
       "         1.17223982e+00],\n",
       "       [ 3.66547970e-01,  1.05098765e+00, -1.89012287e-02,\n",
       "         1.15755870e+00],\n",
       "       [ 1.81905188e+00,  5.44823163e-01,  4.34326216e-02,\n",
       "         1.48054327e+00],\n",
       "       [-3.51543852e-01,  8.12792600e-01, -7.87685382e-01,\n",
       "         1.20160205e+00],\n",
       "       [-1.27527106e+00,  4.75349606e-01, -1.25726705e+00,\n",
       "         3.06053926e-01],\n",
       "       [-4.98426271e-01, -2.19385969e-01, -1.05779873e+00,\n",
       "        -2.24952596e-03],\n",
       "       [ 1.80273162e+00,  2.17304964e-01, -4.96794081e-01,\n",
       "         2.91372809e-01],\n",
       "       [ 3.99188508e-01, -1.18209098e+00,  1.27348727e+00,\n",
       "        -8.39073181e-01],\n",
       "       [-3.51543852e-01, -1.31111330e+00,  1.04077423e+00,\n",
       "        -1.04460882e+00],\n",
       "       [-8.24831645e-01, -1.13246701e+00,  1.60593447e+00,\n",
       "        -1.36759338e+00],\n",
       "       [-3.35223584e-01, -3.88107466e-01, -1.22402233e+00,\n",
       "         2.17967225e-01],\n",
       "       [-5.96347883e-01, -5.76678550e-01,  1.76800248e+00,\n",
       "        -1.82270800e+00],\n",
       "       [ 3.17587164e-01, -1.41036124e+00, -4.76016131e-01,\n",
       "        -1.30886892e+00],\n",
       "       [-3.02583046e-01, -1.38058686e+00,  1.01999628e+00,\n",
       "        -1.49972344e+00],\n",
       "       [-4.98426271e-01, -1.47983480e+00,  2.30434172e-01,\n",
       "        -1.10333328e+00],\n",
       "       [-1.48417050e+00,  2.86778521e-01, -1.09935463e+00,\n",
       "         8.05211896e-01],\n",
       "       [-7.40992845e-02,  1.97455376e-01, -7.66907432e-01,\n",
       "         5.70314028e-01],\n",
       "       [ 5.64628651e-02, -1.20138030e-01, -7.25351532e-01,\n",
       "        -3.83958562e-01],\n",
       "       [ 1.88433296e+00,  9.31890127e-01,  8.95328575e-01,\n",
       "         4.52865094e-01],\n",
       "       [ 9.86718181e-01,  7.03619866e-01, -3.59659610e-01,\n",
       "         6.29038495e-01],\n",
       "       [-8.80320558e-01,  5.74597545e-01, -1.07026550e+00,\n",
       "         8.19893013e-01],\n",
       "       [ 2.03345283e-01,  1.30903230e+00,  4.09124543e-01,\n",
       "         1.18692093e+00],\n",
       "       [-2.51384784e-02, -1.33096289e+00,  1.14466398e+00,\n",
       "        -1.60249125e+00],\n",
       "       [-1.88341165e-01, -1.13246701e+00,  2.23342856e+00,\n",
       "        -1.55844790e+00],\n",
       "       [-8.24831645e-01, -4.67505817e-01, -1.14091053e+00,\n",
       "        -4.42683029e-01],\n",
       "       [-1.17734945e+00, -7.15625665e-01, -7.25351532e-01,\n",
       "        -6.62899780e-01],\n",
       "       [ 2.38223277e-02, -1.35081248e+00,  1.06155218e+00,\n",
       "        -1.22078222e+00],\n",
       "       [ 2.53714371e+00,  1.33880668e+00,  2.51212123e-01,\n",
       "         8.78617480e-01],\n",
       "       [-1.88341165e-01, -1.26148933e+00,  5.58993917e-02,\n",
       "        -1.20610110e+00],\n",
       "       [-3.35223584e-01, -7.15625665e-01, -4.34460231e-01,\n",
       "        -1.88143247e+00],\n",
       "       [ 1.36208436e+00,  1.70602405e+00,  1.05766472e-01,\n",
       "         2.32648342e-01],\n",
       "       [-1.23060091e-01, -1.30118851e+00,  8.12216775e-01,\n",
       "        -1.45568009e+00],\n",
       "       [-1.72020897e-01, -1.40043645e+00,  3.05234793e-01,\n",
       "        -1.10333328e+00],\n",
       "       [-3.84184390e-01, -1.28133892e+00,  1.84280310e+00,\n",
       "        -1.30886892e+00],\n",
       "       [-1.55700628e-01, -1.30118851e+00,  2.12538322e+00,\n",
       "        -1.20610110e+00],\n",
       "       [-7.53022462e-01,  1.19985956e+00,  6.42105717e-02,\n",
       "         8.93298597e-01],\n",
       "       [ 4.48149314e-01, -9.43895926e-01, -8.70797182e-01,\n",
       "        -1.10333328e+00],\n",
       "       [-8.73792451e-01,  3.08557041e+00,  3.55101873e-01,\n",
       "         1.64203555e+00],\n",
       "       [-5.57179238e-01,  6.04371927e-01, -9.33131033e-01,\n",
       "         3.50097276e-01],\n",
       "       [-3.35223584e-01, -1.79686793e-01, -5.59127931e-01,\n",
       "        -1.63741810e-01],\n",
       "       [-2.37301971e-01, -1.26148933e+00,  1.89267018e+00,\n",
       "        -1.26482557e+00],\n",
       "       [ 5.64628651e-02, -6.66001696e-01, -8.20930102e-01,\n",
       "        -9.41840999e-01],\n",
       "       [ 1.03567899e+00,  7.83018218e-01, -3.18103710e-01,\n",
       "         1.21628317e+00],\n",
       "       [-1.15123702e+00,  1.05098765e+00, -9.74686933e-01,\n",
       "         1.56862997e+00],\n",
       "       [-7.59550570e-01, -6.46152108e-01, -1.03702078e+00,\n",
       "        -7.56551098e-02],\n",
       "       [-4.10296820e-01,  5.85082610e-02, -5.59127931e-01,\n",
       "        -1.05017343e-01],\n",
       "       [ 1.80273162e+00,  1.68617447e+00,  6.87549074e-01,\n",
       "         4.38183977e-01],\n",
       "       [ 4.80789851e-01,  7.03619866e-01, -2.26680730e-01,\n",
       "         3.06053926e-01],\n",
       "       [-9.22753257e-01, -5.56828963e-01,  2.51212123e-01,\n",
       "        -1.44099897e+00],\n",
       "       [-1.02067487e+00,  1.12046121e+00, -2.89014580e-01,\n",
       "         4.38183977e-01],\n",
       "       [ 7.74554688e-01,  1.02121327e+00,  5.13014294e-01,\n",
       "         1.08415311e+00],\n",
       "       [-1.06310757e+00,  1.97455376e-01, -1.34869003e+00,\n",
       "         4.38183977e-01],\n",
       "       [-5.57179238e-01, -3.58333084e-01, -1.05779873e+00,\n",
       "         9.37341947e-01],\n",
       "       [-1.78549004e-01,  6.73845485e-01, -2.26680730e-01,\n",
       "        -3.98639679e-01],\n",
       "       [-1.72020897e-01,  9.41814921e-01, -1.03702078e+00,\n",
       "         1.01074753e+00],\n",
       "       [ 1.78641135e+00,  4.55500018e-01, -6.04571289e-02,\n",
       "         3.64778393e-01],\n",
       "       [-3.35223584e-01, -1.00344469e+00,  1.39399938e+00,\n",
       "        -9.56522116e-01],\n",
       "       [ 3.66547970e-01,  6.34146309e-01, -6.75484452e-01,\n",
       "         1.83289007e+00],\n",
       "       [ 1.21520194e+00,  4.55500018e-01, -3.72126380e-01,\n",
       "        -9.03362265e-02],\n",
       "       [-5.50651130e-01, -3.28558702e-01, -1.60633662e+00,\n",
       "         7.02444079e-01],\n",
       "       [ 1.49264651e+00,  1.75564802e+00,  7.91438825e-01,\n",
       "         1.01074753e+00],\n",
       "       [ 1.21743940e-01,  4.35650430e-01, -2.68236630e-01,\n",
       "         1.39245657e+00],\n",
       "       [ 2.55346398e+00,  1.20978436e+00,  7.29104975e-01,\n",
       "         4.52865094e-01],\n",
       "       [-2.37301971e-01, -6.56076902e-01,  3.26401489e+00,\n",
       "        -8.97797648e-01],\n",
       "       [-9.74978117e-01,  3.86586731e-02, -8.58330412e-01,\n",
       "        -3.83958562e-01],\n",
       "       [-6.94269495e-01, -1.04314387e+00,  1.04077423e+00,\n",
       "        -1.45568009e+00],\n",
       "       [ 1.08463979e+00,  1.18993477e+00, -1.02013029e-01,\n",
       "         1.27500763e+00],\n",
       "       [-1.11206837e+00,  5.85082610e-02, -2.26680730e-01,\n",
       "        -1.34379577e-01],\n",
       "       [-1.00435460e+00, -6.85851284e-01,  8.12216775e-01,\n",
       "        -1.82270800e+00],\n",
       "       [-1.26547890e+00,  1.18057025e-01, -1.28220059e+00,\n",
       "         5.70314028e-01],\n",
       "       [-2.69942509e-01, -1.38058686e+00,  1.26544422e-01,\n",
       "        -1.55844790e+00],\n",
       "       [-1.98133327e-01, -5.06644722e-02, -9.16508673e-01,\n",
       "         1.46586215e+00],\n",
       "       [ 1.06831952e+00,  9.41814921e-01,  4.38213673e-01,\n",
       "         2.62010576e-01],\n",
       "       [-1.15123702e+00,  6.73845485e-01, -1.05779873e+00,\n",
       "         7.75849662e-01],\n",
       "       [ 1.47632624e+00,  1.25940833e+00,  2.22122992e-01,\n",
       "         8.78617480e-01],\n",
       "       [-7.26910032e-01, -1.46991000e+00,  1.47322372e-01,\n",
       "        -1.08865217e+00],\n",
       "       [-8.50944074e-01, -1.30062824e-01, -5.84061471e-01,\n",
       "         3.06053926e-01],\n",
       "       [ 1.29680329e+00,  1.41820503e+00,  6.04437274e-01,\n",
       "        -2.24952596e-03],\n",
       "       [-1.23060091e-01, -1.04314387e+00,  2.29991800e+00,\n",
       "        -1.48504232e+00],\n",
       "       [-6.94269495e-01, -1.48975959e+00,  6.12748454e-01,\n",
       "        -1.20610110e+00]])"
      ]
     },
     "execution_count": 30,
     "metadata": {},
     "output_type": "execute_result"
    }
   ],
   "source": [
    "X_std"
   ]
  },
  {
   "cell_type": "code",
   "execution_count": 31,
   "metadata": {},
   "outputs": [
    {
     "data": {
      "text/html": [
       "<style>#sk-container-id-1 {color: black;}#sk-container-id-1 pre{padding: 0;}#sk-container-id-1 div.sk-toggleable {background-color: white;}#sk-container-id-1 label.sk-toggleable__label {cursor: pointer;display: block;width: 100%;margin-bottom: 0;padding: 0.3em;box-sizing: border-box;text-align: center;}#sk-container-id-1 label.sk-toggleable__label-arrow:before {content: \"▸\";float: left;margin-right: 0.25em;color: #696969;}#sk-container-id-1 label.sk-toggleable__label-arrow:hover:before {color: black;}#sk-container-id-1 div.sk-estimator:hover label.sk-toggleable__label-arrow:before {color: black;}#sk-container-id-1 div.sk-toggleable__content {max-height: 0;max-width: 0;overflow: hidden;text-align: left;background-color: #f0f8ff;}#sk-container-id-1 div.sk-toggleable__content pre {margin: 0.2em;color: black;border-radius: 0.25em;background-color: #f0f8ff;}#sk-container-id-1 input.sk-toggleable__control:checked~div.sk-toggleable__content {max-height: 200px;max-width: 100%;overflow: auto;}#sk-container-id-1 input.sk-toggleable__control:checked~label.sk-toggleable__label-arrow:before {content: \"▾\";}#sk-container-id-1 div.sk-estimator input.sk-toggleable__control:checked~label.sk-toggleable__label {background-color: #d4ebff;}#sk-container-id-1 div.sk-label input.sk-toggleable__control:checked~label.sk-toggleable__label {background-color: #d4ebff;}#sk-container-id-1 input.sk-hidden--visually {border: 0;clip: rect(1px 1px 1px 1px);clip: rect(1px, 1px, 1px, 1px);height: 1px;margin: -1px;overflow: hidden;padding: 0;position: absolute;width: 1px;}#sk-container-id-1 div.sk-estimator {font-family: monospace;background-color: #f0f8ff;border: 1px dotted black;border-radius: 0.25em;box-sizing: border-box;margin-bottom: 0.5em;}#sk-container-id-1 div.sk-estimator:hover {background-color: #d4ebff;}#sk-container-id-1 div.sk-parallel-item::after {content: \"\";width: 100%;border-bottom: 1px solid gray;flex-grow: 1;}#sk-container-id-1 div.sk-label:hover label.sk-toggleable__label {background-color: #d4ebff;}#sk-container-id-1 div.sk-serial::before {content: \"\";position: absolute;border-left: 1px solid gray;box-sizing: border-box;top: 0;bottom: 0;left: 50%;z-index: 0;}#sk-container-id-1 div.sk-serial {display: flex;flex-direction: column;align-items: center;background-color: white;padding-right: 0.2em;padding-left: 0.2em;position: relative;}#sk-container-id-1 div.sk-item {position: relative;z-index: 1;}#sk-container-id-1 div.sk-parallel {display: flex;align-items: stretch;justify-content: center;background-color: white;position: relative;}#sk-container-id-1 div.sk-item::before, #sk-container-id-1 div.sk-parallel-item::before {content: \"\";position: absolute;border-left: 1px solid gray;box-sizing: border-box;top: 0;bottom: 0;left: 50%;z-index: -1;}#sk-container-id-1 div.sk-parallel-item {display: flex;flex-direction: column;z-index: 1;position: relative;background-color: white;}#sk-container-id-1 div.sk-parallel-item:first-child::after {align-self: flex-end;width: 50%;}#sk-container-id-1 div.sk-parallel-item:last-child::after {align-self: flex-start;width: 50%;}#sk-container-id-1 div.sk-parallel-item:only-child::after {width: 0;}#sk-container-id-1 div.sk-dashed-wrapped {border: 1px dashed gray;margin: 0 0.4em 0.5em 0.4em;box-sizing: border-box;padding-bottom: 0.4em;background-color: white;}#sk-container-id-1 div.sk-label label {font-family: monospace;font-weight: bold;display: inline-block;line-height: 1.2em;}#sk-container-id-1 div.sk-label-container {text-align: center;}#sk-container-id-1 div.sk-container {/* jupyter's `normalize.less` sets `[hidden] { display: none; }` but bootstrap.min.css set `[hidden] { display: none !important; }` so we also need the `!important` here to be able to override the default hidden behavior on the sphinx rendered scikit-learn.org. See: https://github.com/scikit-learn/scikit-learn/issues/21755 */display: inline-block !important;position: relative;}#sk-container-id-1 div.sk-text-repr-fallback {display: none;}</style><div id=\"sk-container-id-1\" class=\"sk-top-container\"><div class=\"sk-text-repr-fallback\"><pre>LogisticRegression(multi_class=&#x27;ovr&#x27;, random_state=1)</pre><b>In a Jupyter environment, please rerun this cell to show the HTML representation or trust the notebook. <br />On GitHub, the HTML representation is unable to render, please try loading this page with nbviewer.org.</b></div><div class=\"sk-container\" hidden><div class=\"sk-item\"><div class=\"sk-estimator sk-toggleable\"><input class=\"sk-toggleable__control sk-hidden--visually\" id=\"sk-estimator-id-1\" type=\"checkbox\" checked><label for=\"sk-estimator-id-1\" class=\"sk-toggleable__label sk-toggleable__label-arrow\">LogisticRegression</label><div class=\"sk-toggleable__content\"><pre>LogisticRegression(multi_class=&#x27;ovr&#x27;, random_state=1)</pre></div></div></div></div></div>"
      ],
      "text/plain": [
       "LogisticRegression(multi_class='ovr', random_state=1)"
      ]
     },
     "execution_count": 31,
     "metadata": {},
     "output_type": "execute_result"
    }
   ],
   "source": [
    "lr = LogisticRegression(multi_class='ovr', random_state=1, solver = 'lbfgs')\n",
    "\n",
    "lr.fit(X_std, y_train)"
   ]
  },
  {
   "cell_type": "code",
   "execution_count": 32,
   "metadata": {},
   "outputs": [],
   "source": [
    "X_std_test = sc.fit_transform(X_test[:,p])"
   ]
  },
  {
   "cell_type": "code",
   "execution_count": 33,
   "metadata": {},
   "outputs": [
    {
     "data": {
      "text/plain": [
       "array([[-1.41344273, -0.33792399, -1.04512412,  0.78634229],\n",
       "       [ 2.04042478,  1.28387864,  0.9168385 ,  0.19273814],\n",
       "       [ 0.86884858,  0.93859163,  0.37911541,  1.6041969 ],\n",
       "       [ 1.26444574,  0.81303271, -0.02781017,  0.68081266],\n",
       "       [-0.86569282, -0.49487263, -1.16623292, -0.58554286],\n",
       "       [-0.36358873,  1.66055537, -0.17314073,  0.08720851],\n",
       "       [-1.1243525 ,  0.72932677, -0.71570817,  0.60166544],\n",
       "       [-0.82004699, -0.1705121 , -0.0859424 ,  1.02378395],\n",
       "       [ 0.96014023,  0.38403976, -0.3184713 ,  0.21912054],\n",
       "       [ 0.9144944 ,  0.50959867,  0.18534132,  0.8259159 ],\n",
       "       [-0.78961644, -1.66675581, -1.40845053, -1.16595581],\n",
       "       [-0.75918589, -0.98664504,  0.26285096, -1.69360394],\n",
       "       [-0.18100542, -1.77138824, -0.48802362, -1.89147199],\n",
       "       [-0.08971377, -1.47841745,  1.18327786, -1.5089271 ],\n",
       "       [ 0.18416118, -1.55166014,  2.15214829, -1.42977988],\n",
       "       [-1.22173026,  0.50959867, -1.01605801,  0.75995988],\n",
       "       [-0.66180813, -0.84015964, -1.16623292,  0.08720851],\n",
       "       [ 0.62540417,  0.7607165 , -0.73024123,  1.05016636],\n",
       "       [ 1.52310542,  1.02229757,  0.65039913, -0.07108593],\n",
       "       [ 0.41239032,  0.84442244, -0.17314073,  0.91825432],\n",
       "       [ 0.15373063,  0.5409884 , -0.61882113,  0.65443026],\n",
       "       [-0.63746369, -1.63536609,  0.3500493 , -0.78341091],\n",
       "       [-1.10913722, -1.9074104 ,  0.02063335, -1.81232477],\n",
       "       [-0.30272763, -1.12266719, -0.76899605, -1.36382386],\n",
       "       [ 0.42760559,  0.85488568,  0.11752039,  1.01059275],\n",
       "       [-0.48531093, -1.11220395,  3.33901457, -1.21872062],\n",
       "       [-0.08971377, -1.38424826,  1.84210975, -1.19233822],\n",
       "       [ 0.77755692,  0.75025326, -0.51224538,  1.70972653],\n",
       "       [-1.10913722, -0.54718884, -1.35516266, -0.3481012 ],\n",
       "       [-1.00263029, -0.23329156, -1.08387894,  0.60166544],\n",
       "       [-1.06957751, -0.62043154, -0.51224538, -0.7438373 ],\n",
       "       [-0.1353596 ,  0.55145164, -0.26033907,  0.29826777],\n",
       "       [-0.54617203, -1.00757152,  0.06907687, -1.86508959],\n",
       "       [ 0.47933753,  0.11199545, -1.09356764, -0.09746834],\n",
       "       [ 0.32414172, -0.02402671, -0.79806216,  0.56209183],\n",
       "       [ 0.80798748,  1.03276081,  1.14452305,  1.11612237],\n",
       "       [ 1.53832069,  1.13739324,  0.40818152,  0.00806129],\n",
       "       [-1.32215108,  0.10153221, -0.77868475,  0.33784138],\n",
       "       [ 0.32109866,  0.87581217,  0.08845428,  0.85229831],\n",
       "       [-0.66789424, -1.12266719,  0.40818152, -1.77275116],\n",
       "       [ 2.13171643,  1.38851106,  1.42549547,  0.98421034],\n",
       "       [-0.47009566, -1.22729962, -1.14201116, -0.58554286],\n",
       "       [ 1.81219565,  0.65608407,  0.69884265,  0.29826777],\n",
       "       [-1.48951911,  0.09106896, -1.31156349,  0.78634229],\n",
       "       [ 1.46224432,  1.44082728,  1.95837421,  0.52251822],\n",
       "       [ 1.03621661,  0.64562083,  0.67462089,  0.4301798 ],\n",
       "       [-1.20042887,  0.13292194, -0.94823708,  0.64123905],\n",
       "       [-1.30084969,  1.03276081, -0.44442445,  0.17954693],\n",
       "       [-0.05928322,  0.91766514,  0.11752039,  1.08973997],\n",
       "       [ 1.56875124,  0.36311328,  0.09329863,  1.15569598],\n",
       "       [ 1.49267487,  1.11646675,  0.55351209,  0.17954693],\n",
       "       [-0.85047754, -0.62043154,  1.81304364, -1.85189838],\n",
       "       [-0.78961644, -1.71907203, -0.24580602, -0.84936693],\n",
       "       [-0.19926375,  0.38403976, -0.46380186,  0.57528304]])"
      ]
     },
     "execution_count": 33,
     "metadata": {},
     "output_type": "execute_result"
    }
   ],
   "source": [
    "X_std_test"
   ]
  },
  {
   "cell_type": "code",
   "execution_count": 34,
   "metadata": {},
   "outputs": [
    {
     "data": {
      "text/plain": [
       "0.9444444444444444"
      ]
     },
     "execution_count": 34,
     "metadata": {},
     "output_type": "execute_result"
    }
   ],
   "source": [
    "\n",
    "correct =0 \n",
    "total = y_test.shape[0]\n",
    "for i in range(total):\n",
    "    if (lr.predict(X_std_test)[i]==y_test[i]):\n",
    "        correct +=1\n",
    "\n",
    "correct/total"
   ]
  },
  {
   "cell_type": "code",
   "execution_count": 35,
   "metadata": {},
   "outputs": [
    {
     "data": {
      "text/plain": [
       "array([1, 0, 0, 0, 1, 1, 1, 1, 0, 0, 1, 2, 2, 2, 2, 1, 1, 1, 0, 0, 0, 2,\n",
       "       2, 1, 0, 2, 2, 0, 1, 1, 1, 0, 2, 1, 1, 0, 0, 1, 0, 2, 0, 1, 0, 1,\n",
       "       0, 0, 1, 1, 0, 0, 0, 2, 2, 1])"
      ]
     },
     "execution_count": 35,
     "metadata": {},
     "output_type": "execute_result"
    }
   ],
   "source": [
    "y_test"
   ]
  },
  {
   "cell_type": "code",
   "execution_count": 36,
   "metadata": {},
   "outputs": [],
   "source": [
    "from joblib import dump, load"
   ]
  },
  {
   "cell_type": "code",
   "execution_count": 37,
   "metadata": {},
   "outputs": [
    {
     "data": {
      "text/plain": [
       "['wine.joblib']"
      ]
     },
     "execution_count": 37,
     "metadata": {},
     "output_type": "execute_result"
    }
   ],
   "source": [
    "dump(lr,'wine.joblib')"
   ]
  },
  {
   "cell_type": "code",
   "execution_count": 44,
   "metadata": {},
   "outputs": [
    {
     "data": {
      "text/plain": [
       "array([[3.150e+02, 1.840e+00, 2.700e+00, 3.300e+00],\n",
       "       [1.450e+03, 3.390e+00, 6.750e+00, 2.850e+00],\n",
       "       [1.065e+03, 3.060e+00, 5.640e+00, 3.920e+00],\n",
       "       [1.195e+03, 2.940e+00, 4.800e+00, 3.220e+00],\n",
       "       [4.950e+02, 1.690e+00, 2.450e+00, 2.260e+00],\n",
       "       [6.600e+02, 3.750e+00, 4.500e+00, 2.770e+00],\n",
       "       [4.100e+02, 2.860e+00, 3.380e+00, 3.160e+00],\n",
       "       [5.100e+02, 2.000e+00, 4.680e+00, 3.480e+00],\n",
       "       [1.095e+03, 2.530e+00, 4.200e+00, 2.870e+00],\n",
       "       [1.080e+03, 2.650e+00, 5.240e+00, 3.330e+00],\n",
       "       [5.200e+02, 5.700e-01, 1.950e+00, 1.820e+00],\n",
       "       [5.300e+02, 1.220e+00, 5.400e+00, 1.420e+00],\n",
       "       [7.200e+02, 4.700e-01, 3.850e+00, 1.270e+00],\n",
       "       [7.500e+02, 7.500e-01, 7.300e+00, 1.560e+00],\n",
       "       [8.400e+02, 6.800e-01, 9.300e+00, 1.620e+00],\n",
       "       [3.780e+02, 2.650e+00, 2.760e+00, 3.280e+00],\n",
       "       [5.620e+02, 1.360e+00, 2.450e+00, 2.770e+00],\n",
       "       [9.850e+02, 2.890e+00, 3.350e+00, 3.500e+00],\n",
       "       [1.280e+03, 3.140e+00, 6.200e+00, 2.650e+00],\n",
       "       [9.150e+02, 2.970e+00, 4.500e+00, 3.400e+00],\n",
       "       [8.300e+02, 2.680e+00, 3.580e+00, 3.200e+00],\n",
       "       [5.700e+02, 6.000e-01, 5.580e+00, 2.110e+00],\n",
       "       [4.150e+02, 3.400e-01, 4.900e+00, 1.330e+00],\n",
       "       [6.800e+02, 1.090e+00, 3.270e+00, 1.670e+00],\n",
       "       [9.200e+02, 2.980e+00, 5.100e+00, 3.470e+00],\n",
       "       [6.200e+02, 1.100e+00, 1.175e+01, 1.780e+00],\n",
       "       [7.500e+02, 8.400e-01, 8.660e+00, 1.800e+00],\n",
       "       [1.035e+03, 2.880e+00, 3.800e+00, 4.000e+00],\n",
       "       [4.150e+02, 1.640e+00, 2.060e+00, 2.440e+00],\n",
       "       [4.500e+02, 1.940e+00, 2.620e+00, 3.160e+00],\n",
       "       [4.280e+02, 1.570e+00, 3.800e+00, 2.140e+00],\n",
       "       [7.350e+02, 2.690e+00, 4.320e+00, 2.930e+00],\n",
       "       [6.000e+02, 1.200e+00, 5.000e+00, 1.290e+00],\n",
       "       [9.370e+02, 2.270e+00, 2.600e+00, 2.630e+00],\n",
       "       [8.860e+02, 2.140e+00, 3.210e+00, 3.130e+00],\n",
       "       [1.045e+03, 3.150e+00, 7.220e+00, 3.550e+00],\n",
       "       [1.285e+03, 3.250e+00, 5.700e+00, 2.710e+00],\n",
       "       [3.450e+02, 2.260e+00, 3.250e+00, 2.960e+00],\n",
       "       [8.850e+02, 3.000e+00, 5.040e+00, 3.350e+00],\n",
       "       [5.600e+02, 1.090e+00, 5.700e+00, 1.360e+00],\n",
       "       [1.480e+03, 3.490e+00, 7.800e+00, 3.450e+00],\n",
       "       [6.250e+02, 9.900e-01, 2.500e+00, 2.260e+00],\n",
       "       [1.375e+03, 2.790e+00, 6.300e+00, 2.930e+00],\n",
       "       [2.900e+02, 2.250e+00, 2.150e+00, 3.300e+00],\n",
       "       [1.260e+03, 3.540e+00, 8.900e+00, 3.100e+00],\n",
       "       [1.120e+03, 2.780e+00, 6.250e+00, 3.030e+00],\n",
       "       [3.850e+02, 2.290e+00, 2.900e+00, 3.190e+00],\n",
       "       [3.520e+02, 3.150e+00, 3.940e+00, 2.840e+00],\n",
       "       [7.600e+02, 3.040e+00, 5.100e+00, 3.530e+00],\n",
       "       [1.295e+03, 2.510e+00, 5.050e+00, 3.580e+00],\n",
       "       [1.270e+03, 3.230e+00, 6.000e+00, 2.840e+00],\n",
       "       [5.000e+02, 1.570e+00, 8.600e+00, 1.300e+00],\n",
       "       [5.200e+02, 5.200e-01, 4.350e+00, 2.060e+00],\n",
       "       [7.140e+02, 2.530e+00, 3.900e+00, 3.140e+00]])"
      ]
     },
     "execution_count": 44,
     "metadata": {},
     "output_type": "execute_result"
    }
   ],
   "source": [
    "X_test[:,p]"
   ]
  },
  {
   "cell_type": "code",
   "execution_count": 42,
   "metadata": {},
   "outputs": [],
   "source": [
    "sc = StandardScaler()\n",
    "test = sc.fit_transform(X_test[:,p])"
   ]
  },
  {
   "cell_type": "code",
   "execution_count": 43,
   "metadata": {},
   "outputs": [
    {
     "data": {
      "text/plain": [
       "array([1, 0, 0, 0, 1, 1, 1, 1, 0, 0, 1, 2, 2, 2, 2, 1, 1, 0, 0, 0, 1, 2,\n",
       "       2, 1, 0, 2, 2, 0, 1, 1, 1, 1, 2, 1, 1, 0, 0, 1, 0, 2, 0, 1, 0, 1,\n",
       "       0, 0, 1, 1, 0, 0, 0, 2, 2, 1])"
      ]
     },
     "execution_count": 43,
     "metadata": {},
     "output_type": "execute_result"
    }
   ],
   "source": [
    "new_lr = load('wine.joblib')\n",
    "new_lr.predict(test)"
   ]
  },
  {
   "cell_type": "code",
   "execution_count": 39,
   "metadata": {},
   "outputs": [],
   "source": [
    "single_test = np.array([-3.79632555e-01, -1.32045186e+00, -5.41797198e-01,\n",
    "        -1.07349665e-01])"
   ]
  },
  {
   "cell_type": "code",
   "execution_count": 40,
   "metadata": {},
   "outputs": [
    {
     "data": {
      "text/plain": [
       "array([1])"
      ]
     },
     "execution_count": 40,
     "metadata": {},
     "output_type": "execute_result"
    }
   ],
   "source": [
    "new_lr.predict(np.expand_dims(single_test,0))"
   ]
  },
  {
   "cell_type": "code",
   "execution_count": null,
   "metadata": {},
   "outputs": [],
   "source": []
  }
 ],
 "metadata": {
  "kernelspec": {
   "display_name": "Python 3",
   "language": "python",
   "name": "python3"
  },
  "language_info": {
   "codemirror_mode": {
    "name": "ipython",
    "version": 3
   },
   "file_extension": ".py",
   "mimetype": "text/x-python",
   "name": "python",
   "nbconvert_exporter": "python",
   "pygments_lexer": "ipython3",
   "version": "3.11.4"
  }
 },
 "nbformat": 4,
 "nbformat_minor": 2
}
